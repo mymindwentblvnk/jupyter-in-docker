{
 "cells": [
  {
   "cell_type": "markdown",
   "metadata": {},
   "source": [
    "# Python - Back 2 Basics"
   ]
  },
  {
   "cell_type": "markdown",
   "metadata": {},
   "source": [
    "## xkcd on Python\n",
    "\n",
    "![https://imgs.xkcd.com/comics/python.png](https://imgs.xkcd.com/comics/python.png \"xkcd: Python\")\n",
    "\n",
    "https://xkcd.com/353/"
   ]
  },
  {
   "cell_type": "markdown",
   "metadata": {},
   "source": [
    "## Agenda\n",
    "\n",
    "1. Hello World\n",
    "2. Variables and Data Types\n",
    "3. Dictionaries, Lists, Sets\n",
    "3. Loops, _if-Schleifen_ and Logical Operators\n",
    "4. Classes\n",
    "5. Magic Methods\n",
    "6. pip\n",
    "7. PEP8\n",
    "8. virtualenv\n",
    "9. `if __name__ == '__main__'`"
   ]
  },
  {
   "cell_type": "code",
   "execution_count": null,
   "metadata": {},
   "outputs": [],
   "source": []
  }
 ],
 "metadata": {
  "kernelspec": {
   "display_name": "Python 3",
   "language": "python",
   "name": "python3"
  },
  "language_info": {
   "codemirror_mode": {
    "name": "ipython",
    "version": 3
   },
   "file_extension": ".py",
   "mimetype": "text/x-python",
   "name": "python",
   "nbconvert_exporter": "python",
   "pygments_lexer": "ipython3",
   "version": "3.6.9"
  }
 },
 "nbformat": 4,
 "nbformat_minor": 4
}
